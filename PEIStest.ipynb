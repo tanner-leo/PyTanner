{
 "cells": [
  {
   "cell_type": "code",
   "execution_count": 1,
   "metadata": {},
   "outputs": [
    {
     "name": "stderr",
     "output_type": "stream",
     "text": [
      "c:\\Users\\tanne\\source\\repos\\first_package\\PyTanner\\PyImport.py:6: TqdmWarning: IProgress not found. Please update jupyter and ipywidgets. See https://ipywidgets.readthedocs.io/en/stable/user_install.html\n",
      "  from tqdm.autonotebook import tqdm\n"
     ]
    }
   ],
   "source": [
    "import pandas as pd\n",
    "import PyTanner as pt\n",
    "import matplotlib.pyplot as plt\n",
    "import impedance\n",
    "from impedance import preprocessing"
   ]
  },
  {
   "cell_type": "code",
   "execution_count": 2,
   "metadata": {},
   "outputs": [],
   "source": [
    "df = pd.read_pickle('./testing_data/PEIS_Data_Week1.pkl')"
   ]
  },
  {
   "cell_type": "code",
   "execution_count": 3,
   "metadata": {},
   "outputs": [],
   "source": [
    "PEIS1 = df.data.iloc[2]\n",
    "import numpy as np\n",
    "PEIS1.trim(1, 1000000)\n",
    "frequency = np.rad2deg(PEIS1.data.freq)\n",
    "Z = np.complex128(PEIS1.data.real + PEIS1.data.imag*-1j)\n",
    "# len(Z)\n",
    "# Z\n",
    "\n",
    "\n",
    "# df.data.iloc[4].nyquist()\n",
    "# PEIS1.trim(10, 10e3)\n",
    "# PEIS1.data.cycle\n",
    "# PEIS1.imag\n",
    "# PEIS1.nyquist()\n",
    "# PEIS1.data.freq\n",
    "# plt.xlim(0,0.3)\n",
    "# plt.ylim(0,0.3)\n",
    "# PEIS1fit = pt.PEISfit(PEIS1)\n",
    "# PEIS1fit.set_function(3, hide=True)\n",
    "# PEIS1fit.fit()\n",
    "# PEIS1fit.plot()\n",
    "# PEIS1fit.plot_residuals()\n",
    "\n",
    "\n",
    "# PEIS1fit.data.cycle"
   ]
  },
  {
   "cell_type": "code",
   "execution_count": 4,
   "metadata": {},
   "outputs": [],
   "source": [
    "PEIS1\n",
    "PEIS1fit = pt.PEISfitv2(PEIS1)\n",
    "circuit1, guess1 = ['L0-R0-p(R1,CPE1)-p(R2,CPE2)',[10,.01, .01, 100, 0.5, .01, .05, 1]]\n",
    "PEIS1fit.change_circuit(circuit1, guess1)\n",
    "PEIS1fit.trimdata()\n",
    "PEIS1fit.fit()\n"
   ]
  },
  {
   "cell_type": "code",
   "execution_count": 6,
   "metadata": {},
   "outputs": [
    {
     "data": {
      "image/png": "[encoded data removed]",
      "text/plain": [
       "<Figure size 640x480 with 1 Axes>"
      ]
     },
     "metadata": {},
     "output_type": "display_data"
    },
    {
     "data": {
      "text/html": [
       "<div>\n",
       "<style scoped>\n",
       "    .dataframe tbody tr th:only-of-type {\n",
       "        vertical-align: middle;\n",
       "    }\n",
       "\n",
       "    .dataframe tbody tr th {\n",
       "        vertical-align: top;\n",
       "    }\n",
       "\n",
       "    .dataframe thead th {\n",
       "        text-align: right;\n",
       "    }\n",
       "</style>\n",
       "<table border=\"1\" class=\"dataframe\">\n",
       "  <thead>\n",
       "    <tr style=\"text-align: right;\">\n",
       "      <th></th>\n",
       "      <th>Fit1</th>\n",
       "    </tr>\n",
       "  </thead>\n",
       "  <tbody>\n",
       "    <tr>\n",
       "      <th>L0</th>\n",
       "      <td>0.000001</td>\n",
       "    </tr>\n",
       "    <tr>\n",
       "      <th>R0</th>\n",
       "      <td>0.110003</td>\n",
       "    </tr>\n",
       "    <tr>\n",
       "      <th>R1</th>\n",
       "      <td>0.029076</td>\n",
       "    </tr>\n",
       "    <tr>\n",
       "      <th>CPE1_0</th>\n",
       "      <td>4.974329</td>\n",
       "    </tr>\n",
       "    <tr>\n",
       "      <th>CPE1_1</th>\n",
       "      <td>0.647531</td>\n",
       "    </tr>\n",
       "    <tr>\n",
       "      <th>R2</th>\n",
       "      <td>0.031435</td>\n",
       "    </tr>\n",
       "    <tr>\n",
       "      <th>CPE2_0</th>\n",
       "      <td>0.055086</td>\n",
       "    </tr>\n",
       "    <tr>\n",
       "      <th>CPE2_1</th>\n",
       "      <td>0.897529</td>\n",
       "    </tr>\n",
       "  </tbody>\n",
       "</table>\n",
       "</div>"
      ],
      "text/plain": [
       "            Fit1\n",
       "L0      0.000001\n",
       "R0      0.110003\n",
       "R1      0.029076\n",
       "CPE1_0  4.974329\n",
       "CPE1_1  0.647531\n",
       "R2      0.031435\n",
       "CPE2_0  0.055086\n",
       "CPE2_1  0.897529"
      ]
     },
     "metadata": {},
     "output_type": "display_data"
    }
   ],
   "source": [
    "PEIS1fit.plot()\n",
    "p = PEIS1fit.parameters()\n",
    "circuit=PEIS1fit.circuit\n",
    "# circuit.get_param_names()"
   ]
  }
 ],
 "metadata": {
  "kernelspec": {
   "display_name": "venv",
   "language": "python",
   "name": "python3"
  },
  "language_info": {
   "codemirror_mode": {
    "name": "ipython",
    "version": 3
   },
   "file_extension": ".py",
   "mimetype": "text/x-python",
   "name": "python",
   "nbconvert_exporter": "python",
   "pygments_lexer": "ipython3",
   "version": "3.10.10"
  },
  "orig_nbformat": 4,
  "vscode": {
   "interpreter": {
    "hash": "86de6e264d0edebf1dc6e4afad719bab9ea6b46847006caaa808f56ae082bba4"
   }
  }
 },
 "nbformat": 4,
 "nbformat_minor": 2
}
