{
 "cells": [
  {
   "cell_type": "code",
   "execution_count": null,
   "metadata": {},
   "outputs": [
    {
     "name": "stderr",
     "output_type": "stream",
     "text": [
      "c:\\Users\\tanne\\source\\repos\\first_package\\PyTanner\\PyImport.py:6: TqdmWarning: IProgress not found. Please update jupyter and ipywidgets. See https://ipywidgets.readthedocs.io/en/stable/user_install.html\n",
      "  from tqdm.autonotebook import tqdm\n"
     ]
    }
   ],
   "source": [
    "import pandas as pd\n",
    "import PyTanner as pt"
   ]
  },
  {
   "cell_type": "code",
   "execution_count": null,
   "metadata": {},
   "outputs": [],
   "source": [
    "df = pd.read_pickle('./testing_data/PEIS_Data_Week1.pkl')"
   ]
  },
  {
   "cell_type": "code",
   "execution_count": null,
   "metadata": {},
   "outputs": [
    {
     "ename": "AttributeError",
     "evalue": "'PEISfit' object has no attribute 'set_function'",
     "output_type": "error",
     "traceback": [
      "\u001b[1;31m---------------------------------------------------------------------------\u001b[0m",
      "\u001b[1;31mAttributeError\u001b[0m                            Traceback (most recent call last)",
      "Cell \u001b[1;32mIn[10], line 5\u001b[0m\n\u001b[0;32m      3\u001b[0m PEIS1fit\u001b[39m.\u001b[39mfit()\n\u001b[0;32m      4\u001b[0m \u001b[39m# PEIS1fit.fitresult\u001b[39;00m\n\u001b[1;32m----> 5\u001b[0m PEIS1fit\u001b[39m.\u001b[39;49mset_function()\n\u001b[0;32m      6\u001b[0m \u001b[39m# PEIS1fit.data\u001b[39;00m\n",
      "\u001b[1;31mAttributeError\u001b[0m: 'PEISfit' object has no attribute 'set_function'"
     ]
    }
   ],
   "source": [
    "PEIS1 = df.data.iloc[4]\n",
    "PEIS1fit = pt.PEISfit(PEIS1)\n",
    "PEIS1fit.fit()\n",
    "# PEIS1fit.fitresult\n",
    "PEIS1fit.set_function()\n",
    "# PEIS1fit.data"
   ]
  }
 ],
 "metadata": {
  "kernelspec": {
   "display_name": "venv",
   "language": "python",
   "name": "python3"
  },
  "language_info": {
   "codemirror_mode": {
    "name": "ipython",
    "version": 3
   },
   "file_extension": ".py",
   "mimetype": "text/x-python",
   "name": "python",
   "nbconvert_exporter": "python",
   "pygments_lexer": "ipython3",
   "version": "3.10.10"
  },
  "orig_nbformat": 4,
  "vscode": {
   "interpreter": {
    "hash": "86de6e264d0edebf1dc6e4afad719bab9ea6b46847006caaa808f56ae082bba4"
   }
  }
 },
 "nbformat": 4,
 "nbformat_minor": 2
}
